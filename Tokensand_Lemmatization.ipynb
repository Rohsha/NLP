{
  "nbformat": 4,
  "nbformat_minor": 0,
  "metadata": {
    "colab": {
      "name": "Tokensand Lemmatization.ipynb",
      "provenance": [],
      "authorship_tag": "ABX9TyO3IgwTVf7HteLSE02npja8",
      "include_colab_link": true
    },
    "kernelspec": {
      "name": "python3",
      "display_name": "Python 3"
    }
  },
  "cells": [
    {
      "cell_type": "markdown",
      "metadata": {
        "id": "view-in-github",
        "colab_type": "text"
      },
      "source": [
        "<a href=\"https://colab.research.google.com/github/Rohsha/NLP/blob/master/Tokensand_Lemmatization.ipynb\" target=\"_parent\"><img src=\"https://colab.research.google.com/assets/colab-badge.svg\" alt=\"Open In Colab\"/></a>"
      ]
    },
    {
      "cell_type": "code",
      "metadata": {
        "id": "wBUMaWD6fbIl",
        "colab_type": "code",
        "colab": {}
      },
      "source": [
        "#nltk.download()\n",
        "import urllib.request\n",
        "response= urllib.request.urlopen(\"https://www.theguardian.com/music/2018/oct/19/while-my-guitar-gently-weeps-beatles-george-harrison\")\n",
        "html=response.read()\n",
        "newhtml= html.decode(\"utf-8\")\n",
        "from nltk import re\n",
        "m=re.findall(\"<p>(.*)</p>\",newhtml)\n",
        "m=str(m)\n",
        "#Remove html tags from a string\n",
        "def remove_html_tags(m):\n",
        "    \n",
        "    import re\n",
        "    clean = re.compile('<.*?>')\n",
        "    return re.sub(clean, '', m)\n",
        "m=remove_html_tags(m)\n",
        "m=m.lower()\n",
        "# remove punctucation and tokenize the contents\n",
        "from nltk.tokenize import RegexpTokenizer\n",
        "tokenizer = RegexpTokenizer(r'\\w+')\n",
        "tokens=tokenizer.tokenize(m)\n",
        "print(tokens),\n",
        "#uniques words or bag of words\n",
        "x=set(tokens)\n",
        "l=list(x)\n",
        "print(l),\n",
        "#lemmatize the words\n",
        "import nltk\n",
        "from nltk.stem import WordNetLemmatize\n",
        "lemmatizer = WordNetLemmatizer()\n",
        "lemmatized_words = [lemmatizer.lemmatize(x) for x in tokens]\n",
        "print (lemmatized_words)"
      ],
      "execution_count": 0,
      "outputs": []
    }
  ]
}