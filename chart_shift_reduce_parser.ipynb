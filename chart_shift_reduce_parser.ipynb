{
  "nbformat": 4,
  "nbformat_minor": 0,
  "metadata": {
    "colab": {
      "name": "chart_shift_reduce_parser.ipynb",
      "provenance": [],
      "authorship_tag": "ABX9TyNMCwBgeTLZmXdxK/ccZKtJ",
      "include_colab_link": true
    },
    "kernelspec": {
      "name": "python3",
      "display_name": "Python 3"
    }
  },
  "cells": [
    {
      "cell_type": "markdown",
      "metadata": {
        "id": "view-in-github",
        "colab_type": "text"
      },
      "source": [
        "<a href=\"https://colab.research.google.com/github/Rohsha/NLP/blob/master/chart_shift_reduce_parser.ipynb\" target=\"_parent\"><img src=\"https://colab.research.google.com/assets/colab-badge.svg\" alt=\"Open In Colab\"/></a>"
      ]
    },
    {
      "cell_type": "code",
      "metadata": {
        "id": "bZai_T2tetlU",
        "colab_type": "code",
        "colab": {}
      },
      "source": [
        "using Chart parser\n",
        "import nltk\n",
        "from nltk import CFG\n",
        "grammar = CFG.fromstring(\"\"\"\n",
        "S -> NP VP \n",
        "NP -> Det N \n",
        "VP -> V NP | V \n",
        "Det -> 'The' | 'a' |'an'\n",
        "N -> 'bear'|'squirrel'|'dog'\n",
        "NP -> N\n",
        "V -> 'eat' | 'eats' \"\"\")\n",
        "cp = nltk.ChartParser(grammar)\n",
        "sentence = [s.split() for s in ['The bear eat an squirrel','The dog eats']]\n",
        "for s in sentence:\n",
        "    for node in cp.parse(s):\n",
        "        print(''.join(s))\n",
        "        print(node)\n",
        "        print(node.draw())\n",
        "        print('\\n------------\\n')\n",
        "from nltk.parse import ShiftReduceParser\n",
        "grammar = CFG.fromstring(\"\"\"\n",
        "S -> NP VP \n",
        "NP -> Det N \n",
        "VP -> V NP | V \n",
        "Det -> 'The' | 'a' |'an'\n",
        "N -> 'bear'|'squirrel'|'dog'\n",
        "NP -> N\n",
        "V -> 'eat' | 'eats' \"\"\")\n",
        "#using Shift Reduce Parser\n",
        "sr = ShiftReduceParser(grammar)\n",
        "sentence = [s.split() for s in ['The bear eat an squirrel','The dog eats']]\n",
        "for s in sentence:\n",
        "    for node in sr.parse(s):\n",
        "        print(''.join(s))\n",
        "        print(node)\n",
        "        print(node.draw())\n",
        "        print('\\n------------\\n')\n"
      ],
      "execution_count": 0,
      "outputs": []
    }
  ]
}